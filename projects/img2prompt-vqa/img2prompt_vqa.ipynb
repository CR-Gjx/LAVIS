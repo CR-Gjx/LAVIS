{
 "cells": [
  {
   "cell_type": "raw",
   "metadata": {
    "colab_type": "text",
    "id": "view-in-github",
    "pycharm": {
     "name": "#%% raw\n"
    }
   },
   "source": [
    "<a href=\"https://colab.research.google.com/github/anthonytmh/lavis-pnpvqa/blob/pnp_vqa/projects/pnp-vqa/pnp_vqa.ipynb\" target=\"_parent\"><img src=\"https://colab.research.google.com/assets/colab-badge.svg\" alt=\"Open In Colab\"/></a>"
   ]
  },
  {
   "cell_type": "markdown",
   "metadata": {
    "id": "_qxQ4_bEhkrd"
   },
   "source": [
    "## Img2Prompt-VQA: Inference Demo"
   ]
  },
  {
   "cell_type": "code",
   "execution_count": 2,
   "metadata": {
    "id": "dq8t0LJThhuJ"
   },
   "outputs": [
    {
     "name": "stdout",
     "output_type": "stream",
     "text": [
      "Requirement already satisfied: omegaconf in /Users/jiaxianguo/anaconda3/lib/python3.6/site-packages (2.3.0)\n",
      "Requirement already satisfied: PyYAML>=5.1.0 in /Users/jiaxianguo/anaconda3/lib/python3.6/site-packages (from omegaconf) (5.1)\n",
      "Requirement already satisfied: dataclasses in /Users/jiaxianguo/anaconda3/lib/python3.6/site-packages (from omegaconf) (0.8)\n",
      "Requirement already satisfied: antlr4-python3-runtime==4.9.* in /Users/jiaxianguo/anaconda3/lib/python3.6/site-packages (from omegaconf) (4.9.3)\n",
      "/Users/jiaxianguo\n",
      "\u001B[31mERROR: Directory '.' is not installable. Neither 'setup.py' nor 'pyproject.toml' found.\u001B[0m\n",
      "Collecting https://github.com/explosion/spacy-models/releases/download/en_core_web_sm-3.0.0/en_core_web_sm-3.0.0.tar.gz\n",
      "  Downloading https://github.com/explosion/spacy-models/releases/download/en_core_web_sm-3.0.0/en_core_web_sm-3.0.0.tar.gz (13.7 MB)\n",
      "\u001B[K     |████████████████████████████████| 13.7 MB 5.8 MB/s eta 0:00:01\n",
      "\u001B[?25hCollecting spacy<3.1.0,>=3.0.0\n",
      "  Using cached spacy-3.0.8-cp36-cp36m-macosx_10_9_x86_64.whl (5.9 MB)\n",
      "Requirement already satisfied: setuptools in ./anaconda3/lib/python3.6/site-packages (from spacy<3.1.0,>=3.0.0->en-core-web-sm==3.0.0) (40.8.0)\n",
      "Requirement already satisfied: numpy>=1.15.0 in ./anaconda3/lib/python3.6/site-packages (from spacy<3.1.0,>=3.0.0->en-core-web-sm==3.0.0) (1.16.5)\n",
      "Collecting cymem<2.1.0,>=2.0.2\n",
      "  Using cached cymem-2.0.7.tar.gz (9.9 kB)\n",
      "  Installing build dependencies ... \u001B[?25ldone\n",
      "\u001B[?25h  Getting requirements to build wheel ... \u001B[?25ldone\n",
      "\u001B[?25h  Installing backend dependencies ... \u001B[?25ldone\n",
      "\u001B[?25h    Preparing wheel metadata ... \u001B[?25ldone\n",
      "\u001B[?25hCollecting spacy-legacy<3.1.0,>=3.0.5\n",
      "  Using cached spacy_legacy-3.0.10-py2.py3-none-any.whl (21 kB)\n",
      "Collecting thinc<8.1.0,>=8.0.3\n",
      "  Using cached thinc-8.0.17-cp36-cp36m-macosx_10_9_x86_64.whl (635 kB)\n",
      "Requirement already satisfied: requests<3.0.0,>=2.13.0 in ./anaconda3/lib/python3.6/site-packages (from spacy<3.1.0,>=3.0.0->en-core-web-sm==3.0.0) (2.21.0)\n",
      "Collecting preshed<3.1.0,>=3.0.2\n",
      "  Using cached preshed-3.0.8.tar.gz (14 kB)\n",
      "  Installing build dependencies ... \u001B[?25lerror\n",
      "\u001B[31m  ERROR: Command errored out with exit status 1:\n",
      "   command: /Users/jiaxianguo/anaconda3/bin/python /Users/jiaxianguo/anaconda3/lib/python3.6/site-packages/pip install --ignore-installed --no-user --prefix /private/var/folders/cc/bz4g9_g16098fysc1jl9g4b80000gn/T/pip-build-env-aiarbz53/overlay --no-warn-script-location --no-binary :none: --only-binary :none: -i https://pypi.org/simple -- setuptools 'cython>=0.28' 'cymem>=2.0.2,<2.1.0' 'murmurhash>=0.28.0,<1.1.0'\n",
      "       cwd: None\n",
      "  Complete output (90 lines):\n",
      "  Collecting setuptools\n",
      "    Using cached setuptools-59.6.0-py3-none-any.whl (952 kB)\n",
      "  Collecting cython>=0.28\n",
      "    Using cached Cython-0.29.32-py2.py3-none-any.whl (986 kB)\n",
      "  Collecting cymem<2.1.0,>=2.0.2\n",
      "    Using cached cymem-2.0.7.tar.gz (9.9 kB)\n",
      "    Installing build dependencies: started\n",
      "    Installing build dependencies: finished with status 'done'\n",
      "    Getting requirements to build wheel: started\n",
      "    Getting requirements to build wheel: finished with status 'done'\n",
      "    Installing backend dependencies: started\n",
      "    Installing backend dependencies: finished with status 'done'\n",
      "      Preparing wheel metadata: started\n",
      "      Preparing wheel metadata: finished with status 'done'\n",
      "  Collecting murmurhash<1.1.0,>=0.28.0\n",
      "    Using cached murmurhash-1.0.9.tar.gz (12 kB)\n",
      "    Installing build dependencies: started\n",
      "    Installing build dependencies: finished with status 'done'\n",
      "    Getting requirements to build wheel: started\n",
      "    Getting requirements to build wheel: finished with status 'done'\n",
      "    Installing backend dependencies: started\n",
      "    Installing backend dependencies: finished with status 'done'\n",
      "      Preparing wheel metadata: started\n",
      "      Preparing wheel metadata: finished with status 'done'\n",
      "  Building wheels for collected packages: cymem, murmurhash\n",
      "    Building wheel for cymem (PEP 517): started\n",
      "    Building wheel for cymem (PEP 517): finished with status 'error'\n",
      "    ERROR: Command errored out with exit status 1:\n",
      "     command: /Users/jiaxianguo/anaconda3/bin/python /Users/jiaxianguo/anaconda3/lib/python3.6/site-packages/pip/_vendor/pep517/in_process/_in_process.py build_wheel /var/folders/cc/bz4g9_g16098fysc1jl9g4b80000gn/T/tmpvno51tir\n",
      "         cwd: /private/var/folders/cc/bz4g9_g16098fysc1jl9g4b80000gn/T/pip-install-nvzhxp87/cymem_4931a1d5f1ea40ec8af219a7b4821154\n",
      "    Complete output (21 lines):\n",
      "    running bdist_wheel\n",
      "    running build\n",
      "    running build_py\n",
      "    creating build\n",
      "    creating build/lib.macosx-10.7-x86_64-3.6\n",
      "    creating build/lib.macosx-10.7-x86_64-3.6/cymem\n",
      "    copying cymem/__init__.py -> build/lib.macosx-10.7-x86_64-3.6/cymem\n",
      "    copying cymem/about.py -> build/lib.macosx-10.7-x86_64-3.6/cymem\n",
      "    creating build/lib.macosx-10.7-x86_64-3.6/cymem/tests\n",
      "    copying cymem/tests/__init__.py -> build/lib.macosx-10.7-x86_64-3.6/cymem/tests\n",
      "    copying cymem/tests/test_import.py -> build/lib.macosx-10.7-x86_64-3.6/cymem/tests\n",
      "    copying cymem/cymem.pyx -> build/lib.macosx-10.7-x86_64-3.6/cymem\n",
      "    copying cymem/__init__.pxd -> build/lib.macosx-10.7-x86_64-3.6/cymem\n",
      "    copying cymem/cymem.pxd -> build/lib.macosx-10.7-x86_64-3.6/cymem\n",
      "    running build_ext\n",
      "    building 'cymem.cymem' extension\n",
      "    creating build/temp.macosx-10.7-x86_64-3.6\n",
      "    creating build/temp.macosx-10.7-x86_64-3.6/cymem\n",
      "    gcc -Wno-unused-result -Wsign-compare -Wunreachable-code -DNDEBUG -g -fwrapv -O3 -Wall -Wstrict-prototypes -I/Users/jiaxianguo/anaconda3/include -arch x86_64 -I/Users/jiaxianguo/anaconda3/include -arch x86_64 -I/Users/jiaxianguo/anaconda3/include/python3.6m -I/Users/jiaxianguo/anaconda3/include/python3.6m -c cymem/cymem.cpp -o build/temp.macosx-10.7-x86_64-3.6/cymem/cymem.o -O3 -Wno-strict-prototypes -Wno-unused-function\n",
      "    xcrun: error: invalid active developer path (/Library/Developer/CommandLineTools), missing xcrun at: /Library/Developer/CommandLineTools/usr/bin/xcrun\n",
      "    error: command 'gcc' failed with exit status 1\n",
      "    ----------------------------------------\n",
      "    ERROR: Failed building wheel for cymem\n",
      "    Building wheel for murmurhash (PEP 517): started\n",
      "    Building wheel for murmurhash (PEP 517): finished with status 'error'\n",
      "    ERROR: Command errored out with exit status 1:\n",
      "     command: /Users/jiaxianguo/anaconda3/bin/python /Users/jiaxianguo/anaconda3/lib/python3.6/site-packages/pip/_vendor/pep517/in_process/_in_process.py build_wheel /var/folders/cc/bz4g9_g16098fysc1jl9g4b80000gn/T/tmpbqaae7bv\n",
      "         cwd: /private/var/folders/cc/bz4g9_g16098fysc1jl9g4b80000gn/T/pip-install-nvzhxp87/murmurhash_00b206d40d1d4fa5b6f8ec2467110563\n",
      "    Complete output (26 lines):\n",
      "    running bdist_wheel\n",
      "    running build\n",
      "    running build_py\n",
      "    creating build\n",
      "    creating build/lib.macosx-10.7-x86_64-3.6\n",
      "    creating build/lib.macosx-10.7-x86_64-3.6/murmurhash\n",
      "    copying murmurhash/__init__.py -> build/lib.macosx-10.7-x86_64-3.6/murmurhash\n",
      "    copying murmurhash/about.py -> build/lib.macosx-10.7-x86_64-3.6/murmurhash\n",
      "    creating build/lib.macosx-10.7-x86_64-3.6/murmurhash/tests\n",
      "    copying murmurhash/tests/__init__.py -> build/lib.macosx-10.7-x86_64-3.6/murmurhash/tests\n",
      "    copying murmurhash/tests/test_import.py -> build/lib.macosx-10.7-x86_64-3.6/murmurhash/tests\n",
      "    copying murmurhash/tests/test_hash.py -> build/lib.macosx-10.7-x86_64-3.6/murmurhash/tests\n",
      "    copying murmurhash/mrmr.pyx -> build/lib.macosx-10.7-x86_64-3.6/murmurhash\n",
      "    copying murmurhash/__init__.pxd -> build/lib.macosx-10.7-x86_64-3.6/murmurhash\n",
      "    copying murmurhash/mrmr.pxd -> build/lib.macosx-10.7-x86_64-3.6/murmurhash\n",
      "    creating build/lib.macosx-10.7-x86_64-3.6/murmurhash/include\n",
      "    creating build/lib.macosx-10.7-x86_64-3.6/murmurhash/include/murmurhash\n",
      "    copying murmurhash/include/murmurhash/MurmurHash2.h -> build/lib.macosx-10.7-x86_64-3.6/murmurhash/include/murmurhash\n",
      "    copying murmurhash/include/murmurhash/MurmurHash3.h -> build/lib.macosx-10.7-x86_64-3.6/murmurhash/include/murmurhash\n",
      "    running build_ext\n",
      "    building 'murmurhash.mrmr' extension\n",
      "    creating build/temp.macosx-10.7-x86_64-3.6\n",
      "    creating build/temp.macosx-10.7-x86_64-3.6/murmurhash\n",
      "    gcc -Wno-unused-result -Wsign-compare -Wunreachable-code -DNDEBUG -g -fwrapv -O3 -Wall -Wstrict-prototypes -I/Users/jiaxianguo/anaconda3/include -arch x86_64 -I/Users/jiaxianguo/anaconda3/include -arch x86_64 -I/Users/jiaxianguo/anaconda3/include/python3.6m -I/private/var/folders/cc/bz4g9_g16098fysc1jl9g4b80000gn/T/pip-install-nvzhxp87/murmurhash_00b206d40d1d4fa5b6f8ec2467110563/murmurhash/include -I/Users/jiaxianguo/anaconda3/include/python3.6m -c murmurhash/mrmr.cpp -o build/temp.macosx-10.7-x86_64-3.6/murmurhash/mrmr.o -O3 -Wno-strict-prototypes -Wno-unused-function\n",
      "    xcrun: error: invalid active developer path (/Library/Developer/CommandLineTools), missing xcrun at: /Library/Developer/CommandLineTools/usr/bin/xcrun\n",
      "    error: command 'gcc' failed with exit status 1\n",
      "    ----------------------------------------\n",
      "    ERROR: Failed building wheel for murmurhash\n",
      "  Failed to build cymem murmurhash\n",
      "  ERROR: Could not build wheels for cymem, murmurhash which use PEP 517 and cannot be installed directly\n",
      "  ----------------------------------------\u001B[0m\n",
      "\u001B[33mWARNING: Discarding https://files.pythonhosted.org/packages/f1/78/c28a568317088b9cef21f8516bed2f41210492ae569c5842ad80251631a0/preshed-3.0.8.tar.gz#sha256=6c74c70078809bfddda17be96483c41d06d717934b07cab7921011d81758b357 (from https://pypi.org/simple/preshed/) (requires-python:>=3.6). Command errored out with exit status 1: /Users/jiaxianguo/anaconda3/bin/python /Users/jiaxianguo/anaconda3/lib/python3.6/site-packages/pip install --ignore-installed --no-user --prefix /private/var/folders/cc/bz4g9_g16098fysc1jl9g4b80000gn/T/pip-build-env-aiarbz53/overlay --no-warn-script-location --no-binary :none: --only-binary :none: -i https://pypi.org/simple -- setuptools 'cython>=0.28' 'cymem>=2.0.2,<2.1.0' 'murmurhash>=0.28.0,<1.1.0' Check the logs for full command output.\u001B[0m\n"
     ]
    },
    {
     "name": "stdout",
     "output_type": "stream",
     "text": [
      "\u001B[?25h  Using cached preshed-3.0.7-cp36-cp36m-macosx_10_9_x86_64.whl (107 kB)\n",
      "Collecting wasabi<1.1.0,>=0.8.1\n",
      "  Using cached wasabi-0.10.1-py3-none-any.whl (26 kB)\n",
      "Collecting blis<0.8.0,>=0.4.0\n",
      "  Using cached blis-0.7.9.tar.gz (2.9 MB)\n",
      "  Installing build dependencies ... \u001B[?25ldone\n",
      "\u001B[?25h  Getting requirements to build wheel ... \u001B[?25ldone\n",
      "\u001B[?25h  Installing backend dependencies ... \u001B[?25ldone\n",
      "\u001B[?25h    Preparing wheel metadata ... \u001B[?25ldone\n",
      "\u001B[?25hCollecting srsly<3.0.0,>=2.4.1\n",
      "  Using cached srsly-2.4.5.tar.gz (349 kB)\n",
      "  Installing build dependencies ... \u001B[?25ldone\n",
      "\u001B[?25h  Getting requirements to build wheel ... \u001B[?25ldone\n",
      "\u001B[?25h  Installing backend dependencies ... \u001B[?25ldone\n",
      "\u001B[?25h    Preparing wheel metadata ... \u001B[?25ldone\n",
      "\u001B[?25hCollecting typer<0.4.0,>=0.3.0\n",
      "  Using cached typer-0.3.2-py3-none-any.whl (21 kB)\n",
      "Collecting pathy>=0.3.5\n",
      "  Using cached pathy-0.10.1-py3-none-any.whl (48 kB)\n",
      "Collecting tqdm<5.0.0,>=4.38.0\n",
      "  Using cached tqdm-4.64.1-py2.py3-none-any.whl (78 kB)\n",
      "Collecting pydantic!=1.8,!=1.8.1,<1.9.0,>=1.7.4\n",
      "  Using cached pydantic-1.8.2-cp36-cp36m-macosx_10_9_x86_64.whl (2.6 MB)\n",
      "Requirement already satisfied: jinja2 in ./anaconda3/lib/python3.6/site-packages (from spacy<3.1.0,>=3.0.0->en-core-web-sm==3.0.0) (2.10)\n",
      "Collecting packaging>=20.0\n",
      "  Using cached packaging-21.3-py3-none-any.whl (40 kB)\n",
      "Collecting murmurhash<1.1.0,>=0.28.0\n",
      "  Using cached murmurhash-1.0.9.tar.gz (12 kB)\n",
      "  Installing build dependencies ... \u001B[?25ldone\n",
      "\u001B[?25h  Getting requirements to build wheel ... \u001B[?25ldone\n",
      "\u001B[?25h  Installing backend dependencies ... \u001B[?25ldone\n",
      "\u001B[?25h    Preparing wheel metadata ... \u001B[?25ldone\n",
      "\u001B[?25hCollecting typing-extensions<4.0.0.0,>=3.7.4\n",
      "  Using cached typing_extensions-3.10.0.2-py3-none-any.whl (26 kB)\n",
      "Collecting catalogue<2.1.0,>=2.0.4\n",
      "  Using cached catalogue-2.0.8-py3-none-any.whl (17 kB)\n",
      "Collecting zipp>=0.5\n",
      "  Using cached zipp-3.6.0-py3-none-any.whl (5.3 kB)\n",
      "Requirement already satisfied: pyparsing!=3.0.5,>=2.0.2 in ./anaconda3/lib/python3.6/site-packages (from packaging>=20.0->spacy<3.1.0,>=3.0.0->en-core-web-sm==3.0.0) (2.3.1)\n",
      "Requirement already satisfied: dataclasses<1.0,>=0.6 in ./anaconda3/lib/python3.6/site-packages (from pathy>=0.3.5->spacy<3.1.0,>=3.0.0->en-core-web-sm==3.0.0) (0.8)\n",
      "Collecting smart-open<7.0.0,>=5.2.1\n",
      "  Using cached smart_open-6.3.0-py3-none-any.whl (56 kB)\n",
      "Requirement already satisfied: urllib3<1.25,>=1.21.1 in ./anaconda3/lib/python3.6/site-packages (from requests<3.0.0,>=2.13.0->spacy<3.1.0,>=3.0.0->en-core-web-sm==3.0.0) (1.22)\n",
      "Requirement already satisfied: certifi>=2017.4.17 in ./anaconda3/lib/python3.6/site-packages (from requests<3.0.0,>=2.13.0->spacy<3.1.0,>=3.0.0->en-core-web-sm==3.0.0) (2021.5.30)\n",
      "Requirement already satisfied: idna<2.9,>=2.5 in ./anaconda3/lib/python3.6/site-packages (from requests<3.0.0,>=2.13.0->spacy<3.1.0,>=3.0.0->en-core-web-sm==3.0.0) (2.6)\n",
      "Requirement already satisfied: chardet<3.1.0,>=3.0.2 in ./anaconda3/lib/python3.6/site-packages (from requests<3.0.0,>=2.13.0->spacy<3.1.0,>=3.0.0->en-core-web-sm==3.0.0) (3.0.4)\n",
      "Collecting contextvars<3,>=2.4\n",
      "  Using cached contextvars-2.4-py3-none-any.whl\n",
      "Collecting immutables>=0.9\n",
      "  Using cached immutables-0.19-cp36-cp36m-macosx_10_9_x86_64.whl (57 kB)\n",
      "Collecting importlib-resources\n",
      "  Using cached importlib_resources-5.4.0-py3-none-any.whl (28 kB)\n",
      "Collecting click<7.2.0,>=7.1.1\n",
      "  Using cached click-7.1.2-py2.py3-none-any.whl (82 kB)\n",
      "Requirement already satisfied: MarkupSafe>=0.23 in ./anaconda3/lib/python3.6/site-packages (from jinja2->spacy<3.1.0,>=3.0.0->en-core-web-sm==3.0.0) (1.1.1)\n",
      "Building wheels for collected packages: en-core-web-sm, blis, cymem, murmurhash, srsly\n",
      "  Building wheel for en-core-web-sm (setup.py) ... \u001B[?25ldone\n",
      "\u001B[?25h  Created wheel for en-core-web-sm: filename=en_core_web_sm-3.0.0-py3-none-any.whl size=13704312 sha256=14c53c10c7cace288a70c6e5db771b81a2ec093402c001ac321d44af4da75d38\n",
      "  Stored in directory: /Users/jiaxianguo/Library/Caches/pip/wheels/47/7a/2a/33815f8c2e5073ad240ef7049414c46e53b300593946106c57\n",
      "  Building wheel for blis (PEP 517) ... \u001B[?25lerror\n",
      "\u001B[31m  ERROR: Command errored out with exit status 1:\n",
      "   command: /Users/jiaxianguo/anaconda3/bin/python /Users/jiaxianguo/anaconda3/lib/python3.6/site-packages/pip/_vendor/pep517/in_process/_in_process.py build_wheel /var/folders/cc/bz4g9_g16098fysc1jl9g4b80000gn/T/tmpqmogrnym\n",
      "       cwd: /private/var/folders/cc/bz4g9_g16098fysc1jl9g4b80000gn/T/pip-install-pv9zbw4u/blis_8ce1f105862148ee94eb0f81e55b04f8\n",
      "  Complete output (71 lines):\n",
      "  BLIS_COMPILER? None\n",
      "  running bdist_wheel\n",
      "  running build\n",
      "  running build_py\n",
      "  creating build\n",
      "  creating build/lib.macosx-10.7-x86_64-3.6\n",
      "  creating build/lib.macosx-10.7-x86_64-3.6/blis\n",
      "  copying blis/benchmark.py -> build/lib.macosx-10.7-x86_64-3.6/blis\n",
      "  copying blis/__init__.py -> build/lib.macosx-10.7-x86_64-3.6/blis\n",
      "  copying blis/about.py -> build/lib.macosx-10.7-x86_64-3.6/blis\n",
      "  creating build/lib.macosx-10.7-x86_64-3.6/blis/tests\n",
      "  copying blis/tests/__init__.py -> build/lib.macosx-10.7-x86_64-3.6/blis/tests\n",
      "  copying blis/tests/test_dotv.py -> build/lib.macosx-10.7-x86_64-3.6/blis/tests\n",
      "  copying blis/tests/test_gemm.py -> build/lib.macosx-10.7-x86_64-3.6/blis/tests\n",
      "  copying blis/tests/common.py -> build/lib.macosx-10.7-x86_64-3.6/blis/tests\n",
      "  copying blis/cy.pyx -> build/lib.macosx-10.7-x86_64-3.6/blis\n",
      "  copying blis/py.pyx -> build/lib.macosx-10.7-x86_64-3.6/blis\n",
      "  copying blis/__init__.pxd -> build/lib.macosx-10.7-x86_64-3.6/blis\n",
      "  copying blis/cy.pxd -> build/lib.macosx-10.7-x86_64-3.6/blis\n",
      "  running build_ext\n",
      "  xcrun: error: invalid active developer path (/Library/Developer/CommandLineTools), missing xcrun at: /Library/Developer/CommandLineTools/usr/bin/xcrun\n",
      "  Build options darwin unix\n",
      "  BUILD ARCH: x86_64\n",
      "  {'TRAVIS_ARCH': 'amd64', 'rvm_bin_path': '/Users/travis/.rvm/bin', 'TRAVIS_FILTERED': 'redirect_io', 'NVM_CD_FLAGS': '', 'GEM_HOME': '/Users/travis/.rvm/gems/ruby-2.6.3', 'HAS_JOSH_K_SEAL_OF_APPROVAL': 'true', 'SHELL': '/bin/bash', 'TERM': 'xterm', 'TRAVIS_TEST_RESULT': '', 'PYTHON_EXE': '/Users/travis/build/explosion/cython-blis/venv/bin/python', 'TMPDIR': '/var/folders/nz/vv4_9tw56nv9k3tkvyszvwg80000gn/T/', 'IRBRC': '/Users/travis/.rvm/rubies/ruby-2.6.3/.irbrc', 'Apple_PubSub_Socket_Render': '/private/tmp/com.apple.launchd.S6RO2Mghjy/Render', 'TRAVIS_COMMIT': '732f9485402cc59aa3fc599df77ad43785b7d7a1', 'TRAVIS_APT_PROXY': 'http://build-cache.travisci.net', 'TRAVIS_OS_NAME': 'osx', 'TRAVIS_JOB_NAME': '', 'OLDPWD': '/Users/travis/build/explosion/cython-blis', 'TRAVIS_INTERNAL_RUBY_REGEX': '^ruby-(2\\\\.[0-4]\\\\.[0-9]|1\\\\.9\\\\.3)', 'MY_RUBY_HOME': '/Users/travis/.rvm/rubies/ruby-2.6.3', 'TRAVIS_ROOT': '/', 'LC_ALL': 'en_US.UTF-8', 'TRAVIS_TIMER_ID': '0e1d8383', 'USER': 'travis', 'NVM_DIR': '/Users/travis/.nvm', 'ANSI_GREEN': '\\\\033[32;1m', 'TRAVIS_INFRA': 'macstadium', 'TRAVIS_LANGUAGE': 'generic', 'rvm_path': '/Users/travis/.rvm', 'ANSI_RESET': '\\\\033[0m', 'SSH_AUTH_SOCK': '/private/tmp/com.apple.launchd.YlWWezq6WM/Listeners', 'TRAVIS_DIST': 'notset', '__CF_USER_TEXT_ENCODING': '0x1F5:0x0:0x0', 'TRAVIS': 'true', 'ANSI_YELLOW': '\\\\033[33;1m', 'TRAVIS_REPO_SLUG': 'explosion/cython-blis', 'PAGER': 'cat', 'TRAVIS_PULL_REQUEST': 'false', 'TRAVIS_COMMIT_MESSAGE': 'Unhack setup.py', 'TRAVIS_BUILD_STAGE_NAME': '', 'VIRTUAL_ENV': '/Users/travis/build/explosion/cython-blis/venv', 'TRAVIS_CMD': 'if [[ \"$TRAVIS_OS_NAME\" == \"osx\" ]]; then ./bin/generate-make-jsonl darwin x86_64 --export; fi', 'TRAVIS_CPU_ARCH': 'amd64', 'rvm_prefix': '/Users/travis', 'PATH': '/Users/travis/build/explosion/cython-blis/venv/bin:/Users/travis/.rvm/gems/ruby-2.6.3/bin:/Users/travis/.rvm/gems/ruby-2.6.3@global/bin:/Users/travis/.rvm/rubies/ruby-2.6.3/bin:/Users/travis/.rvm/bin:/Users/travis/bin:/Users/travis/.local/bin:/Users/travis/.nvm/versions/node/v13.0.1/bin:/usr/local/bin:/usr/bin:/bin:/usr/sbin:/sbin:/opt/X11/bin', 'TRAVIS_TMPDIR': '/var/folders/nz/vv4_9tw56nv9k3tkvyszvwg80000gn/T/tmp.xCmTiUTb', 'TRAVIS_JOB_WEB_URL': 'https://travis-ci.org/explosion/cython-blis/jobs/717979155', 'TRAVIS_OSX_IMAGE': '', 'TRAVIS_PULL_REQUEST_SHA': '', 'TRAVIS_BUILD_WEB_URL': 'https://travis-ci.org/explosion/cython-blis/builds/717979154', 'UNICODE_WIDTH': '32', 'PWD': '/Users/travis/build/explosion/cython-blis/flame-blis', 'CONTINUOUS_INTEGRATION': 'true', 'LANG': 'en_US.UTF-8', 'XPC_FLAGS': '0x0', 'TRAVIS_ENABLE_INFRA_DETECTION': 'true', 'TRAVIS_SUDO': 'true', 'TRAVIS_ALLOW_FAILURE': '', 'TRAVIS_TAG': '', 'XPC_SERVICE_NAME': '0', 'TRAVIS_HOME': '/Users/travis', 'MB_PYTHON_VERSION': '3.7', 'CXX': 'clang++', 'rvm_version': '1.29.8 (latest)', 'TRAVIS_INIT': 'notset', 'HOME': '/Users/travis', 'PS4': '+', 'SHLVL': '2', 'TRAVIS_EVENT_TYPE': 'push', 'TRAVIS_JOB_NUMBER': '595.1', 'ANSI_CLEAR': '\\\\033[0K', 'CI': 'true', 'TRAVIS_TIMER_START_TIME': '1597424124999260000', 'TRAVIS_BUILD_ID': '717979154', 'LOGNAME': 'travis', 'MACOSX_DEPLOYMENT_TARGET': '10.7', 'GEM_PATH': '/Users/travis/.rvm/gems/ruby-2.6.3:/Users/travis/.rvm/gems/ruby-2.6.3@global', 'TRAVIS_PULL_REQUEST_SLUG': '', 'DEBIAN_FRONTEND': 'noninteractive', 'TRAVIS_SECURE_ENV_VARS': 'false', 'PIP_CMD': '/Users/travis/build/explosion/cython-blis/venv/bin/pip', 'NVM_BIN': '/Users/travis/.nvm/versions/node/v13.0.1/bin', 'TRAVIS_APP_HOST': 'build.travis-ci.org', 'GIT_ASKPASS': 'echo', 'DISPLAY': '/private/tmp/com.apple.launchd.1DAgyJjVhK/org.macosforge.xquartz:0', 'TRAVIS_BRANCH': 'blis-0.7.0', 'CC': 'clang', 'TRAVIS_COMMIT_RANGE': 'ebf2df4deeb6...732f9485402c', 'PLAT': 'x86_64', 'TRAVIS_PULL_REQUEST_BRANCH': '', 'RUBY_VERSION': 'ruby-2.6.3', 'ANSI_RED': '\\\\033[31;1m', 'TRAVIS_JOB_ID': '717979155', 'TRAVIS_BUILD_DIR': '/Users/travis/build/explosion/cython-blis', 'TRAVIS_BUILD_NUMBER': '595', 'BASH_FUNC_shell_session_update%%': '() {  :\\n}', '_': '/Users/travis/build/explosion/cython-blis/venv/bin/python'}\n",
      "  [COMMAND] clang -c /private/var/folders/cc/bz4g9_g16098fysc1jl9g4b80000gn/T/pip-install-pv9zbw4u/blis_8ce1f105862148ee94eb0f81e55b04f8/blis/_src/config/bulldozer/bli_cntx_init_bulldozer.c -o /var/folders/cc/bz4g9_g16098fysc1jl9g4b80000gn/T/tmp4apfqczr/bli_cntx_init_bulldozer.o -O3 -fPIC -std=c99 -D_POSIX_C_SOURCE=200112L -DBLIS_VERSION_STRING=\"0.7.0\" -DBLIS_IS_BUILDING_LIBRARY -Iinclude/darwin-x86_64 -I./frame/3/ -I./frame/ind/ukernels/ -I./frame/3/ -I./frame/1m/ -I./frame/1f/ -I./frame/1/ -I./frame/include -I/private/var/folders/cc/bz4g9_g16098fysc1jl9g4b80000gn/T/pip-install-pv9zbw4u/blis_8ce1f105862148ee94eb0f81e55b04f8/blis/_src/include/darwin-x86_64\n",
      "  Traceback (most recent call last):\n",
      "    File \"/Users/jiaxianguo/anaconda3/lib/python3.6/site-packages/pip/_vendor/pep517/in_process/_in_process.py\", line 349, in <module>\n",
      "      main()\n",
      "    File \"/Users/jiaxianguo/anaconda3/lib/python3.6/site-packages/pip/_vendor/pep517/in_process/_in_process.py\", line 331, in main\n",
      "      json_out['return_val'] = hook(**hook_input['kwargs'])\n",
      "    File \"/Users/jiaxianguo/anaconda3/lib/python3.6/site-packages/pip/_vendor/pep517/in_process/_in_process.py\", line 249, in build_wheel\n",
      "      metadata_directory)\n",
      "    File \"/private/var/folders/cc/bz4g9_g16098fysc1jl9g4b80000gn/T/pip-build-env-wzbfstgs/overlay/lib/python3.6/site-packages/setuptools/build_meta.py\", line 231, in build_wheel\n",
      "      wheel_directory, config_settings)\n",
      "    File \"/private/var/folders/cc/bz4g9_g16098fysc1jl9g4b80000gn/T/pip-build-env-wzbfstgs/overlay/lib/python3.6/site-packages/setuptools/build_meta.py\", line 215, in _build_with_temp_dir\n",
      "      self.run_setup()\n",
      "    File \"/private/var/folders/cc/bz4g9_g16098fysc1jl9g4b80000gn/T/pip-build-env-wzbfstgs/overlay/lib/python3.6/site-packages/setuptools/build_meta.py\", line 158, in run_setup\n",
      "      exec(compile(code, __file__, 'exec'), locals())\n",
      "    File \"setup.py\", line 341, in <module>\n",
      "      \"Topic :: Scientific/Engineering\",\n",
      "    File \"/private/var/folders/cc/bz4g9_g16098fysc1jl9g4b80000gn/T/pip-build-env-wzbfstgs/overlay/lib/python3.6/site-packages/setuptools/__init__.py\", line 153, in setup\n",
      "      return distutils.core.setup(**attrs)\n",
      "    File \"/Users/jiaxianguo/anaconda3/lib/python3.6/distutils/core.py\", line 148, in setup\n",
      "      dist.run_commands()\n",
      "    File \"/Users/jiaxianguo/anaconda3/lib/python3.6/distutils/dist.py\", line 955, in run_commands\n",
      "      self.run_command(cmd)\n",
      "    File \"/Users/jiaxianguo/anaconda3/lib/python3.6/distutils/dist.py\", line 974, in run_command\n",
      "      cmd_obj.run()\n",
      "    File \"/private/var/folders/cc/bz4g9_g16098fysc1jl9g4b80000gn/T/pip-build-env-wzbfstgs/normal/lib/python3.6/site-packages/wheel/bdist_wheel.py\", line 299, in run\n",
      "      self.run_command('build')\n",
      "    File \"/Users/jiaxianguo/anaconda3/lib/python3.6/distutils/cmd.py\", line 313, in run_command\n",
      "      self.distribution.run_command(command)\n",
      "    File \"/Users/jiaxianguo/anaconda3/lib/python3.6/distutils/dist.py\", line 974, in run_command\n",
      "      cmd_obj.run()\n",
      "    File \"/Users/jiaxianguo/anaconda3/lib/python3.6/distutils/command/build.py\", line 135, in run\n",
      "      self.run_command(cmd_name)\n",
      "    File \"/Users/jiaxianguo/anaconda3/lib/python3.6/distutils/cmd.py\", line 313, in run_command\n",
      "      self.distribution.run_command(command)\n",
      "    File \"/Users/jiaxianguo/anaconda3/lib/python3.6/distutils/dist.py\", line 974, in run_command\n",
      "      cmd_obj.run()\n",
      "    File \"/Users/jiaxianguo/anaconda3/lib/python3.6/distutils/command/build_ext.py\", line 339, in run\n",
      "      self.build_extensions()\n",
      "    File \"setup.py\", line 105, in build_extensions\n",
      "      objects = self.compile_objects(platform_name, arch, OBJ_DIR)\n",
      "    File \"setup.py\", line 233, in compile_objects\n",
      "      objects.append(self.build_object(env=env, **spec))\n",
      "    File \"setup.py\", line 248, in build_object\n",
      "      subprocess.check_call(command, cwd=BLIS_DIR)\n",
      "    File \"/Users/jiaxianguo/anaconda3/lib/python3.6/subprocess.py\", line 311, in check_call\n",
      "      raise CalledProcessError(retcode, cmd)\n",
      "  subprocess.CalledProcessError: Command '['clang', '-c', '/private/var/folders/cc/bz4g9_g16098fysc1jl9g4b80000gn/T/pip-install-pv9zbw4u/blis_8ce1f105862148ee94eb0f81e55b04f8/blis/_src/config/bulldozer/bli_cntx_init_bulldozer.c', '-o', '/var/folders/cc/bz4g9_g16098fysc1jl9g4b80000gn/T/tmp4apfqczr/bli_cntx_init_bulldozer.o', '-O3', '-fPIC', '-std=c99', '-D_POSIX_C_SOURCE=200112L', '-DBLIS_VERSION_STRING=\"0.7.0\"', '-DBLIS_IS_BUILDING_LIBRARY', '-Iinclude/darwin-x86_64', '-I./frame/3/', '-I./frame/ind/ukernels/', '-I./frame/3/', '-I./frame/1m/', '-I./frame/1f/', '-I./frame/1/', '-I./frame/include', '-I/private/var/folders/cc/bz4g9_g16098fysc1jl9g4b80000gn/T/pip-install-pv9zbw4u/blis_8ce1f105862148ee94eb0f81e55b04f8/blis/_src/include/darwin-x86_64']' returned non-zero exit status 1.\n",
      "  ----------------------------------------\u001B[0m\n",
      "\u001B[31m  ERROR: Failed building wheel for blis\u001B[0m\n"
     ]
    },
    {
     "name": "stdout",
     "output_type": "stream",
     "text": [
      "\u001B[?25h  Building wheel for cymem (PEP 517) ... \u001B[?25lerror\n",
      "\u001B[31m  ERROR: Command errored out with exit status 1:\n",
      "   command: /Users/jiaxianguo/anaconda3/bin/python /Users/jiaxianguo/anaconda3/lib/python3.6/site-packages/pip/_vendor/pep517/in_process/_in_process.py build_wheel /var/folders/cc/bz4g9_g16098fysc1jl9g4b80000gn/T/tmplokq9pjp\n",
      "       cwd: /private/var/folders/cc/bz4g9_g16098fysc1jl9g4b80000gn/T/pip-install-pv9zbw4u/cymem_d82b3ef1959c4659b7a3285b61b98704\n",
      "  Complete output (21 lines):\n",
      "  running bdist_wheel\n",
      "  running build\n",
      "  running build_py\n",
      "  creating build\n",
      "  creating build/lib.macosx-10.7-x86_64-3.6\n",
      "  creating build/lib.macosx-10.7-x86_64-3.6/cymem\n",
      "  copying cymem/__init__.py -> build/lib.macosx-10.7-x86_64-3.6/cymem\n",
      "  copying cymem/about.py -> build/lib.macosx-10.7-x86_64-3.6/cymem\n",
      "  creating build/lib.macosx-10.7-x86_64-3.6/cymem/tests\n",
      "  copying cymem/tests/__init__.py -> build/lib.macosx-10.7-x86_64-3.6/cymem/tests\n",
      "  copying cymem/tests/test_import.py -> build/lib.macosx-10.7-x86_64-3.6/cymem/tests\n",
      "  copying cymem/cymem.pyx -> build/lib.macosx-10.7-x86_64-3.6/cymem\n",
      "  copying cymem/__init__.pxd -> build/lib.macosx-10.7-x86_64-3.6/cymem\n",
      "  copying cymem/cymem.pxd -> build/lib.macosx-10.7-x86_64-3.6/cymem\n",
      "  running build_ext\n",
      "  building 'cymem.cymem' extension\n",
      "  creating build/temp.macosx-10.7-x86_64-3.6\n",
      "  creating build/temp.macosx-10.7-x86_64-3.6/cymem\n",
      "  gcc -Wno-unused-result -Wsign-compare -Wunreachable-code -DNDEBUG -g -fwrapv -O3 -Wall -Wstrict-prototypes -I/Users/jiaxianguo/anaconda3/include -arch x86_64 -I/Users/jiaxianguo/anaconda3/include -arch x86_64 -I/Users/jiaxianguo/anaconda3/include/python3.6m -I/Users/jiaxianguo/anaconda3/include/python3.6m -c cymem/cymem.cpp -o build/temp.macosx-10.7-x86_64-3.6/cymem/cymem.o -O3 -Wno-strict-prototypes -Wno-unused-function\n",
      "  xcrun: error: invalid active developer path (/Library/Developer/CommandLineTools), missing xcrun at: /Library/Developer/CommandLineTools/usr/bin/xcrun\n",
      "  error: command 'gcc' failed with exit status 1\n",
      "  ----------------------------------------\u001B[0m\n",
      "\u001B[31m  ERROR: Failed building wheel for cymem\u001B[0m\n",
      "\u001B[?25h  Building wheel for murmurhash (PEP 517) ... \u001B[?25lerror\n",
      "\u001B[31m  ERROR: Command errored out with exit status 1:\n",
      "   command: /Users/jiaxianguo/anaconda3/bin/python /Users/jiaxianguo/anaconda3/lib/python3.6/site-packages/pip/_vendor/pep517/in_process/_in_process.py build_wheel /var/folders/cc/bz4g9_g16098fysc1jl9g4b80000gn/T/tmphdl49a2a\n",
      "       cwd: /private/var/folders/cc/bz4g9_g16098fysc1jl9g4b80000gn/T/pip-install-pv9zbw4u/murmurhash_456fddf3215a4d76b72720e379044455\n",
      "  Complete output (26 lines):\n",
      "  running bdist_wheel\n",
      "  running build\n",
      "  running build_py\n",
      "  creating build\n",
      "  creating build/lib.macosx-10.7-x86_64-3.6\n",
      "  creating build/lib.macosx-10.7-x86_64-3.6/murmurhash\n",
      "  copying murmurhash/__init__.py -> build/lib.macosx-10.7-x86_64-3.6/murmurhash\n",
      "  copying murmurhash/about.py -> build/lib.macosx-10.7-x86_64-3.6/murmurhash\n",
      "  creating build/lib.macosx-10.7-x86_64-3.6/murmurhash/tests\n",
      "  copying murmurhash/tests/__init__.py -> build/lib.macosx-10.7-x86_64-3.6/murmurhash/tests\n",
      "  copying murmurhash/tests/test_import.py -> build/lib.macosx-10.7-x86_64-3.6/murmurhash/tests\n",
      "  copying murmurhash/tests/test_hash.py -> build/lib.macosx-10.7-x86_64-3.6/murmurhash/tests\n",
      "  copying murmurhash/mrmr.pyx -> build/lib.macosx-10.7-x86_64-3.6/murmurhash\n",
      "  copying murmurhash/__init__.pxd -> build/lib.macosx-10.7-x86_64-3.6/murmurhash\n",
      "  copying murmurhash/mrmr.pxd -> build/lib.macosx-10.7-x86_64-3.6/murmurhash\n",
      "  creating build/lib.macosx-10.7-x86_64-3.6/murmurhash/include\n",
      "  creating build/lib.macosx-10.7-x86_64-3.6/murmurhash/include/murmurhash\n",
      "  copying murmurhash/include/murmurhash/MurmurHash2.h -> build/lib.macosx-10.7-x86_64-3.6/murmurhash/include/murmurhash\n",
      "  copying murmurhash/include/murmurhash/MurmurHash3.h -> build/lib.macosx-10.7-x86_64-3.6/murmurhash/include/murmurhash\n",
      "  running build_ext\n",
      "  building 'murmurhash.mrmr' extension\n",
      "  creating build/temp.macosx-10.7-x86_64-3.6\n",
      "  creating build/temp.macosx-10.7-x86_64-3.6/murmurhash\n",
      "  gcc -Wno-unused-result -Wsign-compare -Wunreachable-code -DNDEBUG -g -fwrapv -O3 -Wall -Wstrict-prototypes -I/Users/jiaxianguo/anaconda3/include -arch x86_64 -I/Users/jiaxianguo/anaconda3/include -arch x86_64 -I/Users/jiaxianguo/anaconda3/include/python3.6m -I/private/var/folders/cc/bz4g9_g16098fysc1jl9g4b80000gn/T/pip-install-pv9zbw4u/murmurhash_456fddf3215a4d76b72720e379044455/murmurhash/include -I/Users/jiaxianguo/anaconda3/include/python3.6m -c murmurhash/mrmr.cpp -o build/temp.macosx-10.7-x86_64-3.6/murmurhash/mrmr.o -O3 -Wno-strict-prototypes -Wno-unused-function\n",
      "  xcrun: error: invalid active developer path (/Library/Developer/CommandLineTools), missing xcrun at: /Library/Developer/CommandLineTools/usr/bin/xcrun\n",
      "  error: command 'gcc' failed with exit status 1\n",
      "  ----------------------------------------\u001B[0m\n",
      "\u001B[31m  ERROR: Failed building wheel for murmurhash\u001B[0m\n",
      "\u001B[?25h  Building wheel for srsly (PEP 517) ... \u001B[?25lerror\n",
      "\u001B[31m  ERROR: Command errored out with exit status 1:\n",
      "   command: /Users/jiaxianguo/anaconda3/bin/python /Users/jiaxianguo/anaconda3/lib/python3.6/site-packages/pip/_vendor/pep517/in_process/_in_process.py build_wheel /var/folders/cc/bz4g9_g16098fysc1jl9g4b80000gn/T/tmp7dtd0k2q\n",
      "       cwd: /private/var/folders/cc/bz4g9_g16098fysc1jl9g4b80000gn/T/pip-install-pv9zbw4u/srsly_a37b594a278b4d9cb6aa5020ad196417\n",
      "  Complete output (168 lines):\n",
      "  Cythonizing sources\n",
      "  running bdist_wheel\n",
      "  running build\n",
      "  running build_py\n",
      "  creating build\n",
      "  creating build/lib.macosx-10.7-x86_64-3.6\n",
      "  creating build/lib.macosx-10.7-x86_64-3.6/srsly\n",
      "  copying srsly/util.py -> build/lib.macosx-10.7-x86_64-3.6/srsly\n",
      "  copying srsly/_yaml_api.py -> build/lib.macosx-10.7-x86_64-3.6/srsly\n",
      "  copying srsly/_msgpack_api.py -> build/lib.macosx-10.7-x86_64-3.6/srsly\n",
      "  copying srsly/__init__.py -> build/lib.macosx-10.7-x86_64-3.6/srsly\n",
      "  copying srsly/about.py -> build/lib.macosx-10.7-x86_64-3.6/srsly\n",
      "  copying srsly/_json_api.py -> build/lib.macosx-10.7-x86_64-3.6/srsly\n",
      "  copying srsly/_pickle_api.py -> build/lib.macosx-10.7-x86_64-3.6/srsly\n",
      "  creating build/lib.macosx-10.7-x86_64-3.6/srsly/ujson\n",
      "  copying srsly/ujson/__init__.py -> build/lib.macosx-10.7-x86_64-3.6/srsly/ujson\n",
      "  creating build/lib.macosx-10.7-x86_64-3.6/srsly/msgpack\n",
      "  copying srsly/msgpack/_version.py -> build/lib.macosx-10.7-x86_64-3.6/srsly/msgpack\n",
      "  copying srsly/msgpack/util.py -> build/lib.macosx-10.7-x86_64-3.6/srsly/msgpack\n",
      "  copying srsly/msgpack/_msgpack_numpy.py -> build/lib.macosx-10.7-x86_64-3.6/srsly/msgpack\n",
      "  copying srsly/msgpack/__init__.py -> build/lib.macosx-10.7-x86_64-3.6/srsly/msgpack\n",
      "  copying srsly/msgpack/exceptions.py -> build/lib.macosx-10.7-x86_64-3.6/srsly/msgpack\n",
      "  copying srsly/msgpack/_ext_type.py -> build/lib.macosx-10.7-x86_64-3.6/srsly/msgpack\n",
      "  creating build/lib.macosx-10.7-x86_64-3.6/srsly/cloudpickle\n",
      "  copying srsly/cloudpickle/cloudpickle.py -> build/lib.macosx-10.7-x86_64-3.6/srsly/cloudpickle\n",
      "  copying srsly/cloudpickle/compat.py -> build/lib.macosx-10.7-x86_64-3.6/srsly/cloudpickle\n",
      "  copying srsly/cloudpickle/__init__.py -> build/lib.macosx-10.7-x86_64-3.6/srsly/cloudpickle\n",
      "  copying srsly/cloudpickle/cloudpickle_fast.py -> build/lib.macosx-10.7-x86_64-3.6/srsly/cloudpickle\n",
      "  creating build/lib.macosx-10.7-x86_64-3.6/srsly/tests\n",
      "  copying srsly/tests/test_msgpack_api.py -> build/lib.macosx-10.7-x86_64-3.6/srsly/tests\n",
      "  copying srsly/tests/test_json_api.py -> build/lib.macosx-10.7-x86_64-3.6/srsly/tests\n",
      "  copying srsly/tests/test_pickle_api.py -> build/lib.macosx-10.7-x86_64-3.6/srsly/tests\n",
      "  copying srsly/tests/test_yaml_api.py -> build/lib.macosx-10.7-x86_64-3.6/srsly/tests\n",
      "  copying srsly/tests/util.py -> build/lib.macosx-10.7-x86_64-3.6/srsly/tests\n",
      "  copying srsly/tests/__init__.py -> build/lib.macosx-10.7-x86_64-3.6/srsly/tests\n",
      "  creating build/lib.macosx-10.7-x86_64-3.6/srsly/ruamel_yaml\n",
      "  copying srsly/ruamel_yaml/scalarfloat.py -> build/lib.macosx-10.7-x86_64-3.6/srsly/ruamel_yaml\n",
      "  copying srsly/ruamel_yaml/scanner.py -> build/lib.macosx-10.7-x86_64-3.6/srsly/ruamel_yaml\n",
      "  copying srsly/ruamel_yaml/compat.py -> build/lib.macosx-10.7-x86_64-3.6/srsly/ruamel_yaml\n",
      "  copying srsly/ruamel_yaml/error.py -> build/lib.macosx-10.7-x86_64-3.6/srsly/ruamel_yaml\n",
      "  copying srsly/ruamel_yaml/anchor.py -> build/lib.macosx-10.7-x86_64-3.6/srsly/ruamel_yaml\n",
      "  copying srsly/ruamel_yaml/constructor.py -> build/lib.macosx-10.7-x86_64-3.6/srsly/ruamel_yaml\n",
      "  copying srsly/ruamel_yaml/composer.py -> build/lib.macosx-10.7-x86_64-3.6/srsly/ruamel_yaml\n",
      "  copying srsly/ruamel_yaml/util.py -> build/lib.macosx-10.7-x86_64-3.6/srsly/ruamel_yaml\n",
      "  copying srsly/ruamel_yaml/events.py -> build/lib.macosx-10.7-x86_64-3.6/srsly/ruamel_yaml\n",
      "  copying srsly/ruamel_yaml/scalarint.py -> build/lib.macosx-10.7-x86_64-3.6/srsly/ruamel_yaml\n",
      "  copying srsly/ruamel_yaml/scalarbool.py -> build/lib.macosx-10.7-x86_64-3.6/srsly/ruamel_yaml\n",
      "  copying srsly/ruamel_yaml/configobjwalker.py -> build/lib.macosx-10.7-x86_64-3.6/srsly/ruamel_yaml\n",
      "  copying srsly/ruamel_yaml/__init__.py -> build/lib.macosx-10.7-x86_64-3.6/srsly/ruamel_yaml\n",
      "  copying srsly/ruamel_yaml/representer.py -> build/lib.macosx-10.7-x86_64-3.6/srsly/ruamel_yaml\n",
      "  copying srsly/ruamel_yaml/tokens.py -> build/lib.macosx-10.7-x86_64-3.6/srsly/ruamel_yaml\n",
      "  copying srsly/ruamel_yaml/dumper.py -> build/lib.macosx-10.7-x86_64-3.6/srsly/ruamel_yaml\n",
      "  copying srsly/ruamel_yaml/cyaml.py -> build/lib.macosx-10.7-x86_64-3.6/srsly/ruamel_yaml\n",
      "  copying srsly/ruamel_yaml/parser.py -> build/lib.macosx-10.7-x86_64-3.6/srsly/ruamel_yaml\n",
      "  copying srsly/ruamel_yaml/reader.py -> build/lib.macosx-10.7-x86_64-3.6/srsly/ruamel_yaml\n",
      "  copying srsly/ruamel_yaml/scalarstring.py -> build/lib.macosx-10.7-x86_64-3.6/srsly/ruamel_yaml\n",
      "  copying srsly/ruamel_yaml/loader.py -> build/lib.macosx-10.7-x86_64-3.6/srsly/ruamel_yaml\n",
      "  copying srsly/ruamel_yaml/resolver.py -> build/lib.macosx-10.7-x86_64-3.6/srsly/ruamel_yaml\n",
      "  copying srsly/ruamel_yaml/serializer.py -> build/lib.macosx-10.7-x86_64-3.6/srsly/ruamel_yaml\n",
      "  copying srsly/ruamel_yaml/nodes.py -> build/lib.macosx-10.7-x86_64-3.6/srsly/ruamel_yaml\n",
      "  copying srsly/ruamel_yaml/timestamp.py -> build/lib.macosx-10.7-x86_64-3.6/srsly/ruamel_yaml\n",
      "  copying srsly/ruamel_yaml/main.py -> build/lib.macosx-10.7-x86_64-3.6/srsly/ruamel_yaml\n",
      "  copying srsly/ruamel_yaml/emitter.py -> build/lib.macosx-10.7-x86_64-3.6/srsly/ruamel_yaml\n",
      "  copying srsly/ruamel_yaml/comments.py -> build/lib.macosx-10.7-x86_64-3.6/srsly/ruamel_yaml\n",
      "  creating build/lib.macosx-10.7-x86_64-3.6/srsly/tests/ujson\n",
      "  copying srsly/tests/ujson/__init__.py -> build/lib.macosx-10.7-x86_64-3.6/srsly/tests/ujson\n",
      "  copying srsly/tests/ujson/test_ujson.py -> build/lib.macosx-10.7-x86_64-3.6/srsly/tests/ujson\n",
      "  creating build/lib.macosx-10.7-x86_64-3.6/srsly/tests/msgpack\n",
      "  copying srsly/tests/msgpack/test_extension.py -> build/lib.macosx-10.7-x86_64-3.6/srsly/tests/msgpack\n",
      "  copying srsly/tests/msgpack/test_subtype.py -> build/lib.macosx-10.7-x86_64-3.6/srsly/tests/msgpack\n",
      "  copying srsly/tests/msgpack/test_buffer.py -> build/lib.macosx-10.7-x86_64-3.6/srsly/tests/msgpack\n",
      "  copying srsly/tests/msgpack/test_unpack.py -> build/lib.macosx-10.7-x86_64-3.6/srsly/tests/msgpack\n",
      "  copying srsly/tests/msgpack/test_pack.py -> build/lib.macosx-10.7-x86_64-3.6/srsly/tests/msgpack\n",
      "  copying srsly/tests/msgpack/__init__.py -> build/lib.macosx-10.7-x86_64-3.6/srsly/tests/msgpack\n",
      "  copying srsly/tests/msgpack/test_except.py -> build/lib.macosx-10.7-x86_64-3.6/srsly/tests/msgpack\n",
      "  copying srsly/tests/msgpack/test_case.py -> build/lib.macosx-10.7-x86_64-3.6/srsly/tests/msgpack\n",
      "  copying srsly/tests/msgpack/test_read_size.py -> build/lib.macosx-10.7-x86_64-3.6/srsly/tests/msgpack\n",
      "  copying srsly/tests/msgpack/test_memoryview.py -> build/lib.macosx-10.7-x86_64-3.6/srsly/tests/msgpack\n",
      "  copying srsly/tests/msgpack/test_seq.py -> build/lib.macosx-10.7-x86_64-3.6/srsly/tests/msgpack\n",
      "  copying srsly/tests/msgpack/test_limits.py -> build/lib.macosx-10.7-x86_64-3.6/srsly/tests/msgpack\n",
      "  copying srsly/tests/msgpack/test_newspec.py -> build/lib.macosx-10.7-x86_64-3.6/srsly/tests/msgpack\n",
      "  copying srsly/tests/msgpack/test_numpy.py -> build/lib.macosx-10.7-x86_64-3.6/srsly/tests/msgpack\n",
      "  copying srsly/tests/msgpack/test_format.py -> build/lib.macosx-10.7-x86_64-3.6/srsly/tests/msgpack\n",
      "  copying srsly/tests/msgpack/test_stricttype.py -> build/lib.macosx-10.7-x86_64-3.6/srsly/tests/msgpack\n",
      "  copying srsly/tests/msgpack/test_sequnpack.py -> build/lib.macosx-10.7-x86_64-3.6/srsly/tests/msgpack\n",
      "  creating build/lib.macosx-10.7-x86_64-3.6/srsly/tests/cloudpickle\n",
      "  copying srsly/tests/cloudpickle/testutils.py -> build/lib.macosx-10.7-x86_64-3.6/srsly/tests/cloudpickle\n",
      "  copying srsly/tests/cloudpickle/__init__.py -> build/lib.macosx-10.7-x86_64-3.6/srsly/tests/cloudpickle\n",
      "  copying srsly/tests/cloudpickle/cloudpickle_test.py -> build/lib.macosx-10.7-x86_64-3.6/srsly/tests/cloudpickle\n",
      "  copying srsly/tests/cloudpickle/cloudpickle_file_test.py -> build/lib.macosx-10.7-x86_64-3.6/srsly/tests/cloudpickle\n",
      "  creating build/lib.macosx-10.7-x86_64-3.6/srsly/tests/ruamel_yaml\n",
      "  copying srsly/tests/ruamel_yaml/test_deprecation.py -> build/lib.macosx-10.7-x86_64-3.6/srsly/tests/ruamel_yaml\n",
      "  copying srsly/tests/ruamel_yaml/test_appliance.py -> build/lib.macosx-10.7-x86_64-3.6/srsly/tests/ruamel_yaml\n",
      "  copying srsly/tests/ruamel_yaml/test_version.py -> build/lib.macosx-10.7-x86_64-3.6/srsly/tests/ruamel_yaml\n",
      "  copying srsly/tests/ruamel_yaml/test_line_col.py -> build/lib.macosx-10.7-x86_64-3.6/srsly/tests/ruamel_yaml\n",
      "  copying srsly/tests/ruamel_yaml/test_literal.py -> build/lib.macosx-10.7-x86_64-3.6/srsly/tests/ruamel_yaml\n",
      "  copying srsly/tests/ruamel_yaml/test_none.py -> build/lib.macosx-10.7-x86_64-3.6/srsly/tests/ruamel_yaml\n",
      "  copying srsly/tests/ruamel_yaml/test_class_register.py -> build/lib.macosx-10.7-x86_64-3.6/srsly/tests/ruamel_yaml\n",
      "  copying srsly/tests/ruamel_yaml/test_indentation.py -> build/lib.macosx-10.7-x86_64-3.6/srsly/tests/ruamel_yaml\n",
      "  copying srsly/tests/ruamel_yaml/test_json_numbers.py -> build/lib.macosx-10.7-x86_64-3.6/srsly/tests/ruamel_yaml\n",
      "  copying srsly/tests/ruamel_yaml/test_string.py -> build/lib.macosx-10.7-x86_64-3.6/srsly/tests/ruamel_yaml\n",
      "  copying srsly/tests/ruamel_yaml/test_copy.py -> build/lib.macosx-10.7-x86_64-3.6/srsly/tests/ruamel_yaml\n",
      "  copying srsly/tests/ruamel_yaml/test_z_check_debug_leftovers.py -> build/lib.macosx-10.7-x86_64-3.6/srsly/tests/ruamel_yaml\n",
      "  copying srsly/tests/ruamel_yaml/test_yamlobject.py -> build/lib.macosx-10.7-x86_64-3.6/srsly/tests/ruamel_yaml\n",
      "  copying srsly/tests/ruamel_yaml/__init__.py -> build/lib.macosx-10.7-x86_64-3.6/srsly/tests/ruamel_yaml\n",
      "  copying srsly/tests/ruamel_yaml/test_program_config.py -> build/lib.macosx-10.7-x86_64-3.6/srsly/tests/ruamel_yaml\n",
      "  copying srsly/tests/ruamel_yaml/test_flowsequencekey.py -> build/lib.macosx-10.7-x86_64-3.6/srsly/tests/ruamel_yaml\n",
      "  copying srsly/tests/ruamel_yaml/test_issues.py -> build/lib.macosx-10.7-x86_64-3.6/srsly/tests/ruamel_yaml\n",
      "  copying srsly/tests/ruamel_yaml/test_datetime.py -> build/lib.macosx-10.7-x86_64-3.6/srsly/tests/ruamel_yaml\n",
      "  copying srsly/tests/ruamel_yaml/test_int.py -> build/lib.macosx-10.7-x86_64-3.6/srsly/tests/ruamel_yaml\n",
      "  copying srsly/tests/ruamel_yaml/test_add_xxx.py -> build/lib.macosx-10.7-x86_64-3.6/srsly/tests/ruamel_yaml\n",
      "  copying srsly/tests/ruamel_yaml/test_tag.py -> build/lib.macosx-10.7-x86_64-3.6/srsly/tests/ruamel_yaml\n",
      "  copying srsly/tests/ruamel_yaml/test_comments.py -> build/lib.macosx-10.7-x86_64-3.6/srsly/tests/ruamel_yaml\n",
      "  copying srsly/tests/ruamel_yaml/test_api_change.py -> build/lib.macosx-10.7-x86_64-3.6/srsly/tests/ruamel_yaml\n",
      "  copying srsly/tests/ruamel_yaml/test_anchor.py -> build/lib.macosx-10.7-x86_64-3.6/srsly/tests/ruamel_yaml\n",
      "  copying srsly/tests/ruamel_yaml/test_fail.py -> build/lib.macosx-10.7-x86_64-3.6/srsly/tests/ruamel_yaml\n",
      "  copying srsly/tests/ruamel_yaml/roundtrip.py -> build/lib.macosx-10.7-x86_64-3.6/srsly/tests/ruamel_yaml\n",
      "  copying srsly/tests/ruamel_yaml/test_float.py -> build/lib.macosx-10.7-x86_64-3.6/srsly/tests/ruamel_yaml\n",
      "  copying srsly/tests/ruamel_yaml/test_spec_examples.py -> build/lib.macosx-10.7-x86_64-3.6/srsly/tests/ruamel_yaml\n",
      "  copying srsly/tests/ruamel_yaml/test_comment_manipulation.py -> build/lib.macosx-10.7-x86_64-3.6/srsly/tests/ruamel_yaml\n",
      "  copying srsly/tests/ruamel_yaml/test_collections.py -> build/lib.macosx-10.7-x86_64-3.6/srsly/tests/ruamel_yaml\n",
      "  copying srsly/tests/ruamel_yaml/test_a_dedent.py -> build/lib.macosx-10.7-x86_64-3.6/srsly/tests/ruamel_yaml\n",
      "  copying srsly/tests/ruamel_yaml/test_numpy.py -> build/lib.macosx-10.7-x86_64-3.6/srsly/tests/ruamel_yaml\n",
      "  copying srsly/tests/ruamel_yaml/test_documents.py -> build/lib.macosx-10.7-x86_64-3.6/srsly/tests/ruamel_yaml\n",
      "  copying srsly/tests/ruamel_yaml/test_yamlfile.py -> build/lib.macosx-10.7-x86_64-3.6/srsly/tests/ruamel_yaml\n",
      "  copying srsly/tests/ruamel_yaml/test_z_data.py -> build/lib.macosx-10.7-x86_64-3.6/srsly/tests/ruamel_yaml\n",
      "  copying srsly/tests/ruamel_yaml/test_contextmanager.py -> build/lib.macosx-10.7-x86_64-3.6/srsly/tests/ruamel_yaml\n",
      "  running egg_info\n",
      "  writing srsly.egg-info/PKG-INFO\n",
      "  writing dependency_links to srsly.egg-info/dependency_links.txt\n",
      "  writing entry points to srsly.egg-info/entry_points.txt\n",
      "  writing requirements to srsly.egg-info/requires.txt\n",
      "  writing top-level names to srsly.egg-info/top_level.txt\n",
      "  reading manifest file 'srsly.egg-info/SOURCES.txt'\n",
      "  reading manifest template 'MANIFEST.in'\n",
      "  warning: no files found matching '*.pxd' under directory 'srsly'\n",
      "  adding license file 'LICENSE'\n",
      "  writing manifest file 'srsly.egg-info/SOURCES.txt'\n",
      "  copying srsly/ujson/JSONtoObj.c -> build/lib.macosx-10.7-x86_64-3.6/srsly/ujson\n",
      "  copying srsly/ujson/objToJSON.c -> build/lib.macosx-10.7-x86_64-3.6/srsly/ujson\n",
      "  copying srsly/ujson/py_defines.h -> build/lib.macosx-10.7-x86_64-3.6/srsly/ujson\n",
      "  copying srsly/ujson/ujson.c -> build/lib.macosx-10.7-x86_64-3.6/srsly/ujson\n",
      "  copying srsly/ujson/version.h -> build/lib.macosx-10.7-x86_64-3.6/srsly/ujson\n",
      "  creating build/lib.macosx-10.7-x86_64-3.6/srsly/ujson/lib\n",
      "  copying srsly/ujson/lib/dconv_wrapper.cc -> build/lib.macosx-10.7-x86_64-3.6/srsly/ujson/lib\n",
      "  copying srsly/ujson/lib/ultrajson.h -> build/lib.macosx-10.7-x86_64-3.6/srsly/ujson/lib\n",
      "  copying srsly/ujson/lib/ultrajsondec.c -> build/lib.macosx-10.7-x86_64-3.6/srsly/ujson/lib\n",
      "  copying srsly/ujson/lib/ultrajsonenc.c -> build/lib.macosx-10.7-x86_64-3.6/srsly/ujson/lib\n",
      "  copying srsly/msgpack/_packer.cpp -> build/lib.macosx-10.7-x86_64-3.6/srsly/msgpack\n",
      "  copying srsly/msgpack/_packer.pyx -> build/lib.macosx-10.7-x86_64-3.6/srsly/msgpack\n",
      "  copying srsly/msgpack/_unpacker.cpp -> build/lib.macosx-10.7-x86_64-3.6/srsly/msgpack\n",
      "  copying srsly/msgpack/_unpacker.pyx -> build/lib.macosx-10.7-x86_64-3.6/srsly/msgpack\n",
      "  copying srsly/msgpack/buff_converter.h -> build/lib.macosx-10.7-x86_64-3.6/srsly/msgpack\n",
      "  copying srsly/msgpack/pack.h -> build/lib.macosx-10.7-x86_64-3.6/srsly/msgpack\n",
      "  copying srsly/msgpack/pack_template.h -> build/lib.macosx-10.7-x86_64-3.6/srsly/msgpack\n",
      "  copying srsly/msgpack/sysdep.h -> build/lib.macosx-10.7-x86_64-3.6/srsly/msgpack\n",
      "  copying srsly/msgpack/unpack.h -> build/lib.macosx-10.7-x86_64-3.6/srsly/msgpack\n",
      "  copying srsly/msgpack/unpack_define.h -> build/lib.macosx-10.7-x86_64-3.6/srsly/msgpack\n",
      "  copying srsly/msgpack/unpack_template.h -> build/lib.macosx-10.7-x86_64-3.6/srsly/msgpack\n",
      "  copying srsly/tests/ujson/334-reproducer.json -> build/lib.macosx-10.7-x86_64-3.6/srsly/tests/ujson\n",
      "  running build_ext\n",
      "  building 'srsly.msgpack._unpacker' extension\n",
      "  creating build/temp.macosx-10.7-x86_64-3.6\n",
      "  creating build/temp.macosx-10.7-x86_64-3.6/srsly\n",
      "  creating build/temp.macosx-10.7-x86_64-3.6/srsly/msgpack\n",
      "  gcc -Wno-unused-result -Wsign-compare -Wunreachable-code -DNDEBUG -g -fwrapv -O3 -Wall -Wstrict-prototypes -I/Users/jiaxianguo/anaconda3/include -arch x86_64 -I/Users/jiaxianguo/anaconda3/include -arch x86_64 -D__LITTLE_ENDIAN__=1 -Isrsly/msgpack -I/Users/jiaxianguo/anaconda3/include/python3.6m -I. -I/Users/jiaxianguo/anaconda3/include/python3.6m -c srsly/msgpack/_unpacker.cpp -o build/temp.macosx-10.7-x86_64-3.6/srsly/msgpack/_unpacker.o -O2 -Wno-strict-prototypes -Wno-unused-function\n",
      "  xcrun: error: invalid active developer path (/Library/Developer/CommandLineTools), missing xcrun at: /Library/Developer/CommandLineTools/usr/bin/xcrun\n",
      "  error: command 'gcc' failed with exit status 1\n",
      "  ----------------------------------------\u001B[0m\n",
      "\u001B[31m  ERROR: Failed building wheel for srsly\u001B[0m\n",
      "\u001B[?25hSuccessfully built en-core-web-sm\n",
      "Failed to build blis cymem murmurhash srsly\n",
      "\u001B[31mERROR: Could not build wheels for blis, cymem, murmurhash, srsly which use PEP 517 and cannot be installed directly\u001B[0m\n"
     ]
    }
   ],
   "source": [
    "# install requirements\n",
    "import sys\n",
    "if 'google.colab' in sys.modules:\n",
    "    print('Running in Colab.')\n",
    "    !git clone https://github.com/salesforce/LAVIS\n",
    "    %cd LAVIS\n",
    "    !pip install .\n",
    "    !pip3 install https://github.com/explosion/spacy-models/releases/download/en_core_web_sm-3.0.0/en_core_web_sm-3.0.0.tar.gz\n",
    "else:\n",
    "    !pip install omegaconf\n",
    "    %cd ../..\n",
    "    !pip install .\n",
    "    !pip3 install https://github.com/explosion/spacy-models/releases/download/en_core_web_sm-3.0.0/en_core_web_sm-3.0.0.tar.gz\n"
   ]
  },
  {
   "cell_type": "code",
   "execution_count": 3,
   "metadata": {
    "id": "838168ff"
   },
   "outputs": [
    {
     "ename": "ModuleNotFoundError",
     "evalue": "No module named 'iopath'",
     "output_type": "error",
     "traceback": [
      "\u001B[0;31m---------------------------------------------------------------------------\u001B[0m",
      "\u001B[0;31mModuleNotFoundError\u001B[0m                       Traceback (most recent call last)",
      "\u001B[0;32m<ipython-input-3-3946b9fac63c>\u001B[0m in \u001B[0;36m<module>\u001B[0;34m\u001B[0m\n\u001B[1;32m      5\u001B[0m \u001B[0;32mimport\u001B[0m \u001B[0mnumpy\u001B[0m \u001B[0;32mas\u001B[0m \u001B[0mnp\u001B[0m\u001B[0;34m\u001B[0m\u001B[0;34m\u001B[0m\u001B[0m\n\u001B[1;32m      6\u001B[0m \u001B[0;34m\u001B[0m\u001B[0m\n\u001B[0;32m----> 7\u001B[0;31m \u001B[0;32mfrom\u001B[0m \u001B[0mlavis\u001B[0m\u001B[0;34m.\u001B[0m\u001B[0mcommon\u001B[0m\u001B[0;34m.\u001B[0m\u001B[0mgradcam\u001B[0m \u001B[0;32mimport\u001B[0m \u001B[0mgetAttMap\u001B[0m\u001B[0;34m\u001B[0m\u001B[0;34m\u001B[0m\u001B[0m\n\u001B[0m\u001B[1;32m      8\u001B[0m \u001B[0;32mfrom\u001B[0m \u001B[0mlavis\u001B[0m\u001B[0;34m.\u001B[0m\u001B[0mmodels\u001B[0m \u001B[0;32mimport\u001B[0m \u001B[0mload_model_and_preprocess\u001B[0m\u001B[0;34m\u001B[0m\u001B[0;34m\u001B[0m\u001B[0m\n",
      "\u001B[0;32m~/学术/LAVIS/lavis/__init__.py\u001B[0m in \u001B[0;36m<module>\u001B[0;34m\u001B[0m\n\u001B[1;32m     13\u001B[0m \u001B[0;32mfrom\u001B[0m \u001B[0mlavis\u001B[0m\u001B[0;34m.\u001B[0m\u001B[0mcommon\u001B[0m\u001B[0;34m.\u001B[0m\u001B[0mregistry\u001B[0m \u001B[0;32mimport\u001B[0m \u001B[0mregistry\u001B[0m\u001B[0;34m\u001B[0m\u001B[0;34m\u001B[0m\u001B[0m\n\u001B[1;32m     14\u001B[0m \u001B[0;34m\u001B[0m\u001B[0m\n\u001B[0;32m---> 15\u001B[0;31m \u001B[0;32mfrom\u001B[0m \u001B[0mlavis\u001B[0m\u001B[0;34m.\u001B[0m\u001B[0mdatasets\u001B[0m\u001B[0;34m.\u001B[0m\u001B[0mbuilders\u001B[0m \u001B[0;32mimport\u001B[0m \u001B[0;34m*\u001B[0m\u001B[0;34m\u001B[0m\u001B[0;34m\u001B[0m\u001B[0m\n\u001B[0m\u001B[1;32m     16\u001B[0m \u001B[0;32mfrom\u001B[0m \u001B[0mlavis\u001B[0m\u001B[0;34m.\u001B[0m\u001B[0mmodels\u001B[0m \u001B[0;32mimport\u001B[0m \u001B[0;34m*\u001B[0m\u001B[0;34m\u001B[0m\u001B[0;34m\u001B[0m\u001B[0m\n\u001B[1;32m     17\u001B[0m \u001B[0;32mfrom\u001B[0m \u001B[0mlavis\u001B[0m\u001B[0;34m.\u001B[0m\u001B[0mprocessors\u001B[0m \u001B[0;32mimport\u001B[0m \u001B[0;34m*\u001B[0m\u001B[0;34m\u001B[0m\u001B[0;34m\u001B[0m\u001B[0m\n",
      "\u001B[0;32m~/学术/LAVIS/lavis/datasets/builders/__init__.py\u001B[0m in \u001B[0;36m<module>\u001B[0;34m\u001B[0m\n\u001B[1;32m      6\u001B[0m \"\"\"\n\u001B[1;32m      7\u001B[0m \u001B[0;34m\u001B[0m\u001B[0m\n\u001B[0;32m----> 8\u001B[0;31m \u001B[0;32mfrom\u001B[0m \u001B[0mlavis\u001B[0m\u001B[0;34m.\u001B[0m\u001B[0mdatasets\u001B[0m\u001B[0;34m.\u001B[0m\u001B[0mbuilders\u001B[0m\u001B[0;34m.\u001B[0m\u001B[0mbase_dataset_builder\u001B[0m \u001B[0;32mimport\u001B[0m \u001B[0mload_dataset_config\u001B[0m\u001B[0;34m\u001B[0m\u001B[0;34m\u001B[0m\u001B[0m\n\u001B[0m\u001B[1;32m      9\u001B[0m from lavis.datasets.builders.caption_builder import (\n\u001B[1;32m     10\u001B[0m     \u001B[0mCOCOCapBuilder\u001B[0m\u001B[0;34m,\u001B[0m\u001B[0;34m\u001B[0m\u001B[0;34m\u001B[0m\u001B[0m\n",
      "\u001B[0;32m~/学术/LAVIS/lavis/datasets/builders/base_dataset_builder.py\u001B[0m in \u001B[0;36m<module>\u001B[0;34m\u001B[0m\n\u001B[1;32m     11\u001B[0m \u001B[0;32mimport\u001B[0m \u001B[0mwarnings\u001B[0m\u001B[0;34m\u001B[0m\u001B[0;34m\u001B[0m\u001B[0m\n\u001B[1;32m     12\u001B[0m \u001B[0;34m\u001B[0m\u001B[0m\n\u001B[0;32m---> 13\u001B[0;31m \u001B[0;32mimport\u001B[0m \u001B[0mlavis\u001B[0m\u001B[0;34m.\u001B[0m\u001B[0mcommon\u001B[0m\u001B[0;34m.\u001B[0m\u001B[0mutils\u001B[0m \u001B[0;32mas\u001B[0m \u001B[0mutils\u001B[0m\u001B[0;34m\u001B[0m\u001B[0;34m\u001B[0m\u001B[0m\n\u001B[0m\u001B[1;32m     14\u001B[0m \u001B[0;32mimport\u001B[0m \u001B[0mtorch\u001B[0m\u001B[0;34m.\u001B[0m\u001B[0mdistributed\u001B[0m \u001B[0;32mas\u001B[0m \u001B[0mdist\u001B[0m\u001B[0;34m\u001B[0m\u001B[0;34m\u001B[0m\u001B[0m\n\u001B[1;32m     15\u001B[0m \u001B[0;32mfrom\u001B[0m \u001B[0mlavis\u001B[0m\u001B[0;34m.\u001B[0m\u001B[0mcommon\u001B[0m\u001B[0;34m.\u001B[0m\u001B[0mdist_utils\u001B[0m \u001B[0;32mimport\u001B[0m \u001B[0mis_dist_avail_and_initialized\u001B[0m\u001B[0;34m,\u001B[0m \u001B[0mis_main_process\u001B[0m\u001B[0;34m\u001B[0m\u001B[0;34m\u001B[0m\u001B[0m\n",
      "\u001B[0;32m~/学术/LAVIS/lavis/common/utils.py\u001B[0m in \u001B[0;36m<module>\u001B[0;34m\u001B[0m\n\u001B[1;32m     22\u001B[0m \u001B[0;32mimport\u001B[0m \u001B[0mpandas\u001B[0m \u001B[0;32mas\u001B[0m \u001B[0mpd\u001B[0m\u001B[0;34m\u001B[0m\u001B[0;34m\u001B[0m\u001B[0m\n\u001B[1;32m     23\u001B[0m \u001B[0;32mimport\u001B[0m \u001B[0myaml\u001B[0m\u001B[0;34m\u001B[0m\u001B[0;34m\u001B[0m\u001B[0m\n\u001B[0;32m---> 24\u001B[0;31m \u001B[0;32mfrom\u001B[0m \u001B[0miopath\u001B[0m\u001B[0;34m.\u001B[0m\u001B[0mcommon\u001B[0m\u001B[0;34m.\u001B[0m\u001B[0mdownload\u001B[0m \u001B[0;32mimport\u001B[0m \u001B[0mdownload\u001B[0m\u001B[0;34m\u001B[0m\u001B[0;34m\u001B[0m\u001B[0m\n\u001B[0m\u001B[1;32m     25\u001B[0m \u001B[0;32mfrom\u001B[0m \u001B[0miopath\u001B[0m\u001B[0;34m.\u001B[0m\u001B[0mcommon\u001B[0m\u001B[0;34m.\u001B[0m\u001B[0mfile_io\u001B[0m \u001B[0;32mimport\u001B[0m \u001B[0mfile_lock\u001B[0m\u001B[0;34m,\u001B[0m \u001B[0mg_pathmgr\u001B[0m\u001B[0;34m\u001B[0m\u001B[0;34m\u001B[0m\u001B[0m\n\u001B[1;32m     26\u001B[0m \u001B[0;32mfrom\u001B[0m \u001B[0mlavis\u001B[0m\u001B[0;34m.\u001B[0m\u001B[0mcommon\u001B[0m\u001B[0;34m.\u001B[0m\u001B[0mregistry\u001B[0m \u001B[0;32mimport\u001B[0m \u001B[0mregistry\u001B[0m\u001B[0;34m\u001B[0m\u001B[0;34m\u001B[0m\u001B[0m\n",
      "\u001B[0;31mModuleNotFoundError\u001B[0m: No module named 'iopath'"
     ]
    }
   ],
   "source": [
    "import torch\n",
    "import requests\n",
    "from PIL import Image\n",
    "from matplotlib import pyplot as plt\n",
    "import numpy as np\n",
    "\n",
    "from lavis.common.gradcam import getAttMap\n",
    "from lavis.models import load_model_and_preprocess"
   ]
  },
  {
   "cell_type": "markdown",
   "metadata": {
    "id": "2ffeec4e"
   },
   "source": [
    "### Load an example image and question"
   ]
  },
  {
   "cell_type": "code",
   "execution_count": null,
   "metadata": {
    "colab": {
     "base_uri": "https://localhost:8080/",
     "height": 335
    },
    "id": "2da65ed1",
    "outputId": "31b7806a-95eb-418f-fed9-e55ee9cc51fd"
   },
   "outputs": [],
   "source": [
    "#img_url = 'https://storage.googleapis.com/sfr-vision-language-research/LAVIS/projects/pnp-vqa/demo.png'\n",
    "#raw_image = Image.open(requests.get(img_url, stream=True).raw).convert('RGB')\n",
    "raw_image = Image.open(\"./demo.png\").convert(\"RGB\")\n",
    "#display(raw_image.resize((400, 300)))\n",
    "question = \"What item s are spinning which can be used to control electric?\"\n",
    "print(question)"
   ]
  },
  {
   "cell_type": "code",
   "execution_count": null,
   "metadata": {
    "colab": {
     "base_uri": "https://localhost:8080/"
    },
    "id": "5ba89c01",
    "outputId": "04e3ab39-475b-4c8c-b335-45e0b739cc6e"
   },
   "outputs": [],
   "source": [
    "# setup device to use\n",
    "device = torch.device(\"cuda\" if torch.cuda.is_available() else \"cpu\")\n",
    "device"
   ]
  },
  {
   "cell_type": "markdown",
   "metadata": {
    "id": "076f55e8"
   },
   "source": [
    "### Load Img2Prompt-VQA model"
   ]
  },
  {
   "cell_type": "code",
   "execution_count": null,
   "metadata": {
    "id": "01be941e",
    "scrolled": false
   },
   "outputs": [],
   "source": [
    "model, vis_processors, txt_processors = load_model_and_preprocess(name=\"img2prompt_vqa\", model_type=\"base\", is_eval=True, device=device)"
   ]
  },
  {
   "cell_type": "markdown",
   "metadata": {
    "id": "f0e27d11"
   },
   "source": [
    "### Preprocess image and text inputs"
   ]
  },
  {
   "cell_type": "code",
   "execution_count": null,
   "metadata": {
    "id": "1c47f415"
   },
   "outputs": [],
   "source": [
    "image = vis_processors[\"eval\"](raw_image).unsqueeze(0).to(device)\n",
    "question = txt_processors[\"eval\"](question)\n",
    "\n",
    "samples = {\"image\": image, \"text_input\": [question]}"
   ]
  },
  {
   "cell_type": "code",
   "execution_count": null,
   "metadata": {
    "pycharm": {
     "name": "#%%\n"
    }
   },
   "outputs": [],
   "source": []
  },
  {
   "cell_type": "markdown",
   "metadata": {
    "id": "ba7a0e77"
   },
   "source": [
    "### Img2Prompt-VQA utilizes 4 submodels to perform VQA:\n",
    "#### 1. Image-Question Matching \n",
    "Compute the relevancy score of image patches with respect to the question using GradCAM"
   ]
  },
  {
   "cell_type": "code",
   "execution_count": null,
   "metadata": {
    "id": "6e1615fc"
   },
   "outputs": [],
   "source": [
    "samples = model.forward_itm(samples=samples)"
   ]
  },
  {
   "cell_type": "code",
   "execution_count": null,
   "metadata": {
    "colab": {
     "base_uri": "https://localhost:8080/",
     "height": 262
    },
    "id": "46c50f9c",
    "outputId": "1588f183-c786-4de0-abc8-ecbfffe2f9a6"
   },
   "outputs": [],
   "source": [
    "# Gradcam visualisation\n",
    "dst_w = 720\n",
    "w, h = raw_image.size\n",
    "scaling_factor = dst_w / w\n",
    "\n",
    "resized_img = raw_image.resize((int(w * scaling_factor), int(h * scaling_factor)))\n",
    "norm_img = np.float32(resized_img) / 255\n",
    "gradcam = samples['gradcams'].reshape(24,24)\n",
    "\n",
    "avg_gradcam = getAttMap(norm_img, gradcam, blur=True)\n",
    "\n",
    "fig, ax = plt.subplots(1, 1, figsize=(5, 5))\n",
    "ax.imshow(avg_gradcam)\n",
    "ax.set_yticks([])\n",
    "ax.set_xticks([])\n",
    "print('Question: {}'.format(question))"
   ]
  },
  {
   "cell_type": "markdown",
   "metadata": {
    "id": "c2d7cf41"
   },
   "source": [
    "#### 2. Image Captioning\n",
    "Generate question-guided captions based on the relevancy score"
   ]
  },
  {
   "cell_type": "code",
   "execution_count": null,
   "metadata": {
    "colab": {
     "base_uri": "https://localhost:8080/"
    },
    "id": "49ac307b",
    "outputId": "93535276-fdd0-4620-a833-cc7da0ff4776"
   },
   "outputs": [],
   "source": [
    "samples = model.forward_cap(samples=samples, num_captions=50, num_patches=20)\n",
    "print('Examples of question-guided captions: ')\n",
    "samples['captions'][0][:5]"
   ]
  },
  {
   "cell_type": "markdown",
   "metadata": {
    "id": "b708efb6"
   },
   "source": [
    "#### 3. Question Generation\n",
    "Generate synthetic questions using the captions"
   ]
  },
  {
   "cell_type": "code",
   "execution_count": null,
   "metadata": {
    "colab": {
     "base_uri": "https://localhost:8080/"
    },
    "id": "f065b898",
    "outputId": "152ef7d0-9071-4397-f68f-00534a274784"
   },
   "outputs": [],
   "source": [
    "samples = model.forward_qa_generation(samples)\n",
    "print('Sample Question: {} \\nSample Answer: {}'.format(samples['questions'][:5], samples['answers'][:5]))"
   ]
  },
  {
   "cell_type": "markdown",
   "metadata": {
    "pycharm": {
     "name": "#%% md\n"
    }
   },
   "source": [
    "#### 4. Prompt Construction\n",
    "Prepare the prompts for LLM"
   ]
  },
  {
   "cell_type": "code",
   "execution_count": null,
   "outputs": [],
   "source": [
    "Img2Prompt = model.prompts_construction(samples)"
   ],
   "metadata": {
    "collapsed": false,
    "pycharm": {
     "name": "#%%\n"
    }
   }
  },
  {
   "cell_type": "markdown",
   "source": [
    "#### 4. Load LLM and Predict Answers\n"
   ],
   "metadata": {
    "collapsed": false,
    "pycharm": {
     "name": "#%% md\n"
    }
   }
  },
  {
   "cell_type": "code",
   "execution_count": null,
   "outputs": [],
   "source": [
    "from transformers import AutoConfig, AutoModelForCausalLM, AutoTokenizer, AutoModelForSeq2SeqLM\n",
    "def load_model(model_selection):\n",
    "    model = AutoModelForCausalLM.from_pretrained(model_selection)\n",
    "    tokenizer = AutoTokenizer.from_pretrained(model_selection, use_fast=False)\n",
    "    return model,tokenizer\n",
    "def postprocess_Answer(text):\n",
    "    for i, ans in enumerate(text):\n",
    "        for j, w in enumerate(ans):\n",
    "            if w == '.' or w == '\\n':\n",
    "                ans = ans[:j].lower()\n",
    "                break\n",
    "    return ans\n",
    "\n",
    "model,tokenizer = load_model('facebook/opt-6.7b')\n",
    "\n",
    "Img2Prompt_input = tokenizer(Img2Prompt, padding='longest', truncation=True, return_tensors=\"pt\").to(\n",
    "    device)\n",
    "\n",
    "assert (len(Img2Prompt_input.input_ids[0])+20) <=2048\n",
    "# print(len(question_input.attention_mask[0]))\n",
    "\n",
    "outputs_list  = []\n",
    "outputs = model.generate(input_ids=Img2Prompt_input.input_ids,\n",
    "                         attention_mask=Img2Prompt_input.attention_mask,\n",
    "                         max_length=20+len(Img2Prompt_input.input_ids[0]),\n",
    "                         return_dict_in_generate=True,\n",
    "                         output_scores = True\n",
    "                         )\n",
    "outputs_list.append(outputs)\n",
    "from transformers import AutoConfig, AutoModelForCausalLM, AutoTokenizer, AutoModelForSeq2SeqLM\n",
    "def load_model(model_selection):\n",
    "    model = AutoModelForCausalLM.from_pretrained(model_selection)\n",
    "    tokenizer = AutoTokenizer.from_pretrained(model_selection, use_fast=False)\n",
    "    return model,tokenizer\n",
    "\n",
    "def postprocess_Answer(text):\n",
    "    for i, ans in enumerate(text):\n",
    "        for j, w in enumerate(ans):\n",
    "            if w == '.' or w == '\\n':\n",
    "                ans = ans[:j].lower()\n",
    "                break\n",
    "    return ans\n",
    "\n",
    "model,tokenizer = load_model('facebook/opt-6.7b')  # you can also use opt-13b/opt-30b/opt-66b, opt-175b if you have network weights\n",
    "\n",
    "Img2Prompt_input = tokenizer(Img2Prompt, padding='longest', truncation=True, return_tensors=\"pt\").to(\n",
    "    device)\n",
    "\n",
    "assert (len(Img2Prompt_input.input_ids[0])+20) <=2048\n",
    "# print(len(question_input.attention_mask[0]))\n",
    "\n",
    "outputs_list  = []\n",
    "outputs = model.generate(input_ids=Img2Prompt_input.input_ids,\n",
    "                         attention_mask=Img2Prompt_input.attention_mask,\n",
    "                         max_length=20+len(Img2Prompt_input.input_ids[0]),\n",
    "                         return_dict_in_generate=True,\n",
    "                         output_scores = True\n",
    "                         )\n",
    "outputs_list.append(outputs)\n"
   ],
   "metadata": {
    "collapsed": false,
    "pycharm": {
     "name": "#%%\n"
    }
   }
  }
 ],
 "metadata": {
  "accelerator": "GPU",
  "colab": {
   "collapsed_sections": [],
   "include_colab_link": true,
   "provenance": []
  },
  "kernelspec": {
   "display_name": "Python 3",
   "language": "python",
   "name": "python3"
  },
  "language_info": {
   "codemirror_mode": {
    "name": "ipython",
    "version": 3
   },
   "file_extension": ".py",
   "mimetype": "text/x-python",
   "name": "python",
   "nbconvert_exporter": "python",
   "pygments_lexer": "ipython3",
   "version": "3.6.8"
  }
 },
 "nbformat": 4,
 "nbformat_minor": 5
}